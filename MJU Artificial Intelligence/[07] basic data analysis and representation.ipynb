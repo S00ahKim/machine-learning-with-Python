{
 "cells": [
  {
   "cell_type": "code",
   "execution_count": 2,
   "metadata": {},
   "outputs": [],
   "source": [
    "import numpy as np"
   ]
  },
  {
   "cell_type": "markdown",
   "metadata": {},
   "source": [
    "<1>"
   ]
  },
  {
   "cell_type": "code",
   "execution_count": 3,
   "metadata": {},
   "outputs": [
    {
     "name": "stdout",
     "output_type": "stream",
     "text": [
      "27\n",
      "29.96\n",
      "25.00\n"
     ]
    }
   ],
   "source": [
    "# (a)\n",
    "\n",
    "data = np.array([13, 15, 16, 16, 19, 20, 20, 21, 22, 22, 25, 25, 25, 25, 30, 33, 33, 35, 35, 35, 35, 36, 40, 45, 46, 52, 70])\n",
    "\n",
    "print(len(data))\n",
    "print(\"%0.2f\" % np.mean(data))\n",
    "print(\"%0.2f\" % np.median(data))"
   ]
  },
  {
   "cell_type": "code",
   "execution_count": 4,
   "metadata": {},
   "outputs": [
    {
     "name": "stdout",
     "output_type": "stream",
     "text": [
      "ModeResult(mode=array([25]), count=array([4]))\n"
     ]
    }
   ],
   "source": [
    "from scipy import stats\n",
    "\n",
    "m = stats.mode(data)\n",
    "print(m)"
   ]
  },
  {
   "cell_type": "code",
   "execution_count": 5,
   "metadata": {},
   "outputs": [
    {
     "name": "stdout",
     "output_type": "stream",
     "text": [
      "Counter({25: 4, 35: 4, 16: 2, 20: 2, 22: 2, 33: 2, 13: 1, 15: 1, 19: 1, 21: 1, 30: 1, 36: 1, 40: 1, 45: 1, 46: 1, 52: 1, 70: 1})\n"
     ]
    }
   ],
   "source": [
    "import collections\n",
    "\n",
    "counter=collections.Counter(data)\n",
    "print(counter)"
   ]
  },
  {
   "cell_type": "code",
   "execution_count": 6,
   "metadata": {},
   "outputs": [
    {
     "name": "stdout",
     "output_type": "stream",
     "text": [
      "[25, 35]\n"
     ]
    }
   ],
   "source": [
    "import collections\n",
    "\n",
    "def get_mode(list):\n",
    "    o = collections.Counter(list).most_common()\n",
    "    max,m = o[0][1],[]\n",
    "    for num in o:\n",
    "        if num[1] == max:m.append(num[0])\n",
    "    if len(m)==len(list):return '없음'\n",
    "    return m\n",
    "print(get_mode(data))"
   ]
  },
  {
   "cell_type": "code",
   "execution_count": 7,
   "metadata": {},
   "outputs": [
    {
     "data": {
      "text/plain": [
       "<Figure size 640x480 with 1 Axes>"
      ]
     },
     "metadata": {},
     "output_type": "display_data"
    }
   ],
   "source": [
    "from collections import Counter\n",
    "import numpy as np\n",
    "import matplotlib.pyplot as plt\n",
    "\n",
    "\n",
    "labels, values = zip(*Counter(data).items())\n",
    "\n",
    "indexes = np.arange(len(labels))\n",
    "width = 1\n",
    "\n",
    "plt.bar(indexes, values, width)\n",
    "plt.xticks(indexes + width * 0.5, labels)\n",
    "plt.show()"
   ]
  },
  {
   "cell_type": "code",
   "execution_count": 8,
   "metadata": {},
   "outputs": [
    {
     "data": {
      "image/png": "[encoded data removed]",
      "text/plain": [
       "<Figure size 432x288 with 1 Axes>"
      ]
     },
     "metadata": {
      "needs_background": "light"
     },
     "output_type": "display_data"
    }
   ],
   "source": [
    "from matplotlib import pyplot as plt\n",
    "\n",
    "age = np.array([10, 20, 30, 40, 50, 60, 70])\n",
    "d_frq = np.array([5, 9, 8, 3, 1, 0, 1])\n",
    "\n",
    "plt.bar(age, d_frq, color=\"blue\")\n",
    "plt.show()"
   ]
  },
  {
   "cell_type": "code",
   "execution_count": 9,
   "metadata": {},
   "outputs": [
    {
     "name": "stdout",
     "output_type": "stream",
     "text": [
      "20.0 35.0\n"
     ]
    }
   ],
   "source": [
    "lower_data = data[0:13]\n",
    "upper_data = data[14:27]\n",
    "\n",
    "Q1 = np.median(lower_data)\n",
    "Q3 = np.median(upper_data)\n",
    "print(Q1, Q3)"
   ]
  },
  {
   "cell_type": "code",
   "execution_count": 10,
   "metadata": {},
   "outputs": [
    {
     "name": "stdout",
     "output_type": "stream",
     "text": [
      "Q1 quantile of arr :  20.5\n",
      "Q3 quantile of arr :  35.0\n"
     ]
    }
   ],
   "source": [
    "print(\"Q1 quantile of arr : \", np.quantile(data, .25)) \n",
    "print(\"Q3 quantile of arr : \", np.quantile(data, .75)) "
   ]
  },
  {
   "cell_type": "code",
   "execution_count": 11,
   "metadata": {},
   "outputs": [
    {
     "name": "stdout",
     "output_type": "stream",
     "text": [
      "count    27.000000\n",
      "mean     29.962963\n",
      "std      12.942124\n",
      "min      13.000000\n",
      "25%      20.500000\n",
      "50%      25.000000\n",
      "75%      35.000000\n",
      "max      70.000000\n",
      "dtype: float64\n",
      "20\n",
      "35\n"
     ]
    }
   ],
   "source": [
    "import scipy as sp\n",
    "import pandas as pd\n",
    "\n",
    "sp.stats.describe(data) #간단한 기술통계\n",
    "pdata = pd.Series(data)\n",
    "print(pdata.describe()) #five number summary\n",
    "\n",
    "print(np.percentile(data, 25, interpolation='nearest')) #1분위수 (보간법 적용)\n",
    "print(np.percentile(data, 75, interpolation='nearest')) #3분위수 (보간법 적용)"
   ]
  },
  {
   "cell_type": "code",
   "execution_count": 12,
   "metadata": {},
   "outputs": [
    {
     "data": {
      "image/png": "[encoded data removed]",
      "text/plain": [
       "<Figure size 432x288 with 1 Axes>"
      ]
     },
     "metadata": {
      "needs_background": "light"
     },
     "output_type": "display_data"
    }
   ],
   "source": [
    "plt.boxplot(data)\n",
    "plt.show()"
   ]
  },
  {
   "cell_type": "markdown",
   "metadata": {},
   "source": [
    "<2>"
   ]
  },
  {
   "cell_type": "code",
   "execution_count": 13,
   "metadata": {},
   "outputs": [
    {
     "name": "stdout",
     "output_type": "stream",
     "text": [
      "3194\n",
      "1597.0\n",
      "950\n",
      "32.94\n"
     ]
    }
   ],
   "source": [
    "sum = 200+450+300+1500+700+44\n",
    "print(sum)\n",
    "print(sum/2)\n",
    "\n",
    "print(200+450+300)\n",
    "\n",
    "print(20+((sum/2-950)/1500)*30)"
   ]
  },
  {
   "cell_type": "markdown",
   "metadata": {},
   "source": [
    "<3>"
   ]
  },
  {
   "cell_type": "code",
   "execution_count": 14,
   "metadata": {},
   "outputs": [
    {
     "name": "stdout",
     "output_type": "stream",
     "text": [
      "count    18.000000\n",
      "mean     46.444444\n",
      "std      13.218624\n",
      "min      23.000000\n",
      "25%      39.500000\n",
      "50%      51.000000\n",
      "75%      56.750000\n",
      "max      61.000000\n",
      "dtype: float64\n",
      "count    18.000000\n",
      "mean     28.783333\n",
      "std       9.254395\n",
      "min       7.800000\n",
      "25%      26.675000\n",
      "50%      30.700000\n",
      "75%      33.925000\n",
      "max      42.500000\n",
      "dtype: float64\n"
     ]
    }
   ],
   "source": [
    "age = np.array([23, 23, 27, 27, 39, 41 , 47 , 49 , 50, 52 , 54 , 54 , 56 , 57 , 58 , 58 , 60 , 61])\n",
    "fat = np.array([9.5 ,26.5 ,7.8 ,17.8 ,31.4 ,25.9 ,27.4 ,27.2 ,31.2, 34.6 ,42.5 ,28.8 ,33.4 ,30.2 ,34.1 ,32.9 , 41.2 ,35.7])\n",
    "\n",
    "page = pd.Series(age)\n",
    "pfat = pd.Series(fat)\n",
    "\n",
    "print(page.describe())\n",
    "print(pfat.describe())"
   ]
  },
  {
   "cell_type": "code",
   "execution_count": 15,
   "metadata": {},
   "outputs": [
    {
     "name": "stdout",
     "output_type": "stream",
     "text": [
      "12.846193652519204\n",
      "8.993655170915401\n"
     ]
    }
   ],
   "source": [
    "print(np.std(age))\n",
    "print(np.std(fat))"
   ]
  },
  {
   "cell_type": "code",
   "execution_count": 16,
   "metadata": {},
   "outputs": [
    {
     "data": {
      "image/png": "[encoded data removed]",
      "text/plain": [
       "<Figure size 432x288 with 1 Axes>"
      ]
     },
     "metadata": {
      "needs_background": "light"
     },
     "output_type": "display_data"
    },
    {
     "data": {
      "image/png": "[encoded data removed]",
      "text/plain": [
       "<Figure size 432x288 with 1 Axes>"
      ]
     },
     "metadata": {
      "needs_background": "light"
     },
     "output_type": "display_data"
    }
   ],
   "source": [
    "plt.boxplot(age)\n",
    "plt.show()\n",
    "\n",
    "plt.boxplot(fat)\n",
    "plt.show()"
   ]
  },
  {
   "cell_type": "code",
   "execution_count": 17,
   "metadata": {},
   "outputs": [
    {
     "data": {
      "image/png": "[encoded data removed]",
      "text/plain": [
       "<Figure size 432x288 with 1 Axes>"
      ]
     },
     "metadata": {
      "needs_background": "light"
     },
     "output_type": "display_data"
    }
   ],
   "source": [
    "plt.scatter(age, fat, c=\"green\", alpha=0.5)\n",
    "plt.show()"
   ]
  },
  {
   "cell_type": "code",
   "execution_count": 18,
   "metadata": {},
   "outputs": [
    {
     "data": {
      "image/png": "[encoded data removed]",
      "text/plain": [
       "<Figure size 432x288 with 1 Axes>"
      ]
     },
     "metadata": {
      "needs_background": "light"
     },
     "output_type": "display_data"
    }
   ],
   "source": [
    "import pylab \n",
    "import scipy.stats as stats\n",
    " \n",
    "stats.probplot(age, dist=\"norm\", plot=pylab)\n",
    "stats.probplot(fat, dist=\"norm\", plot=pylab)\n",
    "pylab.show()"
   ]
  },
  {
   "cell_type": "code",
   "execution_count": 19,
   "metadata": {},
   "outputs": [
    {
     "data": {
      "image/png": "[encoded data removed]",
      "text/plain": [
       "<Figure size 432x288 with 1 Axes>"
      ]
     },
     "metadata": {
      "needs_background": "light"
     },
     "output_type": "display_data"
    }
   ],
   "source": [
    "from statsmodels.graphics.gofplots import qqline\n",
    "\n",
    "ax = plt.subplot(111)\n",
    "plt.scatter(age, fat)\n",
    "qqline(ax, 'r', age, fat)\n",
    "plt.show()"
   ]
  },
  {
   "cell_type": "markdown",
   "metadata": {},
   "source": [
    "<4>"
   ]
  },
  {
   "cell_type": "code",
   "execution_count": 20,
   "metadata": {},
   "outputs": [],
   "source": [
    "from numpy import dot\n",
    "from numpy.linalg import norm\n",
    "import numpy as np\n",
    "\n",
    "def cos_sim(A, B):\n",
    "       return dot(A, B)/(norm(A)*norm(B))"
   ]
  },
  {
   "cell_type": "code",
   "execution_count": 21,
   "metadata": {},
   "outputs": [
    {
     "name": "stdout",
     "output_type": "stream",
     "text": [
      "0.999991391443956\n",
      "0.9957522612528874\n",
      "0.9999694838187877\n",
      "0.9990282349375618\n",
      "0.9653633930282662\n"
     ]
    }
   ],
   "source": [
    "print (cos_sim((1.5, 1.7),(1.4, 1.6)))\n",
    "print (cos_sim((2.0,1.9),(1.4, 1.6)))\n",
    "print (cos_sim((1.6, 1.8),(1.4, 1.6)))\n",
    "print (cos_sim((1.2, 1.5),(1.4, 1.6)))\n",
    "print (cos_sim((1.5, 1.0),(1.4, 1.6)))"
   ]
  },
  {
   "cell_type": "code",
   "execution_count": 22,
   "metadata": {},
   "outputs": [
    {
     "name": "stdout",
     "output_type": "stream",
     "text": [
      "[0.66162164 0.74983786]\n",
      "[0.72499943 0.68874946]\n",
      "[0.66436384 0.74740932]\n",
      "[0.62469505 0.78086881]\n",
      "[0.83205029 0.5547002 ]\n",
      "[0.65850461 0.75257669]\n"
     ]
    }
   ],
   "source": [
    "print((1.5, 1.7)/norm((1.5, 1.7)))\n",
    "print((2.0,1.9)/norm((2.0,1.9)))\n",
    "print((1.6, 1.8)/norm((1.6, 1.8)))\n",
    "print((1.2, 1.5)/norm((1.2, 1.5)))\n",
    "print((1.5, 1.0)/norm((1.5, 1.0)))\n",
    "print((1.4, 1.6)/norm((1.4, 1.6)))"
   ]
  },
  {
   "cell_type": "code",
   "execution_count": 23,
   "metadata": {},
   "outputs": [
    {
     "name": "stdout",
     "output_type": "stream",
     "text": [
      "0.00414934522422517\n",
      "0.09217090851404956\n",
      "0.007812316488071893\n",
      "0.04408548969318586\n",
      "0.26319804015490406\n"
     ]
    }
   ],
   "source": [
    "def ecld_distance(a):\n",
    "    return np.sqrt((np.abs(a[0]-0.65850461)**2)+(np.abs(a[1]-0.75257669)**2))\n",
    "\n",
    "print(ecld_distance([0.66162164, 0.74983786]))\n",
    "print(ecld_distance([0.72499943, 0.68874946]))\n",
    "print(ecld_distance([0.66436384, 0.74740932]))\n",
    "print(ecld_distance([0.62469505, 0.78086881]))\n",
    "print(ecld_distance([0.83205029, 0.5547002]))"
   ]
  },
  {
   "cell_type": "markdown",
   "metadata": {},
   "source": [
    "<5>"
   ]
  },
  {
   "cell_type": "code",
   "execution_count": 24,
   "metadata": {},
   "outputs": [
    {
     "name": "stdout",
     "output_type": "stream",
     "text": [
      "[0.    0.125 0.25  0.5   1.   ]\n",
      "[0.0, 0.125, 0.25, 0.5, 1.0]\n"
     ]
    },
    {
     "name": "stderr",
     "output_type": "stream",
     "text": [
      "C:\\Users\\john\\Anaconda3\\lib\\site-packages\\sklearn\\utils\\validation.py:595: DataConversionWarning: Data with input dtype int32 was converted to float64.\n",
      "  warnings.warn(msg, DataConversionWarning)\n"
     ]
    }
   ],
   "source": [
    "from sklearn.preprocessing import minmax_scale\n",
    "\n",
    "dataset = np.array([200, 300, 400, 600, 1000])\n",
    "\n",
    "# 함수 사용\n",
    "print(minmax_scale(dataset))\n",
    "\n",
    "# 공식으로 구하기\n",
    "nrm_arr = []\n",
    "def min_max_normalization(arr):\n",
    "    for i in range(len(arr)):\n",
    "        nrm_arr.append((arr[i]-200)/(1000-200))\n",
    "        \n",
    "min_max_normalization(dataset)\n",
    "print(nrm_arr)"
   ]
  },
  {
   "cell_type": "code",
   "execution_count": 25,
   "metadata": {},
   "outputs": [
    {
     "name": "stdout",
     "output_type": "stream",
     "text": [
      "['-1.06', '-0.71', '-0.35', '0.35', '1.77']\n"
     ]
    }
   ],
   "source": [
    "z_arr = []\n",
    "ds_mean = np.mean(dataset)\n",
    "ds_std = np.std(dataset)\n",
    "\n",
    "def z_score(arr):\n",
    "    for i in range(len(arr)):\n",
    "        x=(arr[i]-ds_mean)/ds_std\n",
    "        z_arr.append(\"%0.2f\" % x)\n",
    "        \n",
    "z_score(dataset)\n",
    "print(z_arr)"
   ]
  },
  {
   "cell_type": "markdown",
   "metadata": {},
   "source": [
    "<6>"
   ]
  },
  {
   "cell_type": "code",
   "execution_count": 26,
   "metadata": {},
   "outputs": [
    {
     "name": "stdout",
     "output_type": "stream",
     "text": [
      "['-1.83', '-1.83', '-1.51', '-1.51', '-0.58', '-0.42', '0.04', '0.20', '0.28', '0.43', '0.59', '0.59', '0.74', '0.82', '0.90', '0.90', '1.06', '1.13']\n",
      "['-2.14', '-0.25', '-2.33', '-1.22', '0.29', '-0.32', '-0.15', '-0.18', '0.27', '0.65', '1.53', '0.00', '0.51', '0.16', '0.59', '0.46', '1.38', '0.77']\n"
     ]
    }
   ],
   "source": [
    "z_age=[]\n",
    "ag_mean = np.mean(age)\n",
    "ag_std = np.std(age)\n",
    "\n",
    "def z_score_age(arr):\n",
    "    for i in range(len(arr)):\n",
    "        x= (arr[i]-ag_mean)/ag_std\n",
    "        z_age.append(\"%0.2f\" % x)\n",
    "        \n",
    "z_score_age(age)\n",
    "print(z_age)\n",
    "\n",
    "z_fat=[]\n",
    "f_mean = np.mean(fat)\n",
    "f_std = np.std(fat)\n",
    "\n",
    "def z_score_fat(arr):\n",
    "    for i in range(len(arr)):\n",
    "        x= (arr[i]-f_mean)/f_std\n",
    "        z_fat.append(\"%0.2f\" % x)\n",
    "        \n",
    "z_score_fat(fat)\n",
    "print(z_fat)"
   ]
  },
  {
   "cell_type": "code",
   "execution_count": 27,
   "metadata": {},
   "outputs": [
    {
     "name": "stdout",
     "output_type": "stream",
     "text": [
      "          age       fat\n",
      "age  1.000000  0.817619\n",
      "fat  0.817619  1.000000\n",
      "            age         fat\n",
      "age  174.732026  100.019608\n",
      "fat  100.019608   85.643824\n"
     ]
    }
   ],
   "source": [
    "comp = pd.DataFrame({\n",
    "    \"age\" : [23, 23, 27, 27, 39, 41 , 47 , 49 , 50, 52 , 54 , 54 , 56 , 57 , 58 , 58 , 60 , 61],\n",
    "    \"fat\" : [9.5 ,26.5 ,7.8 ,17.8 ,31.4 ,25.9 ,27.4 ,27.2 ,31.2, 34.6 ,42.5 ,28.8 ,33.4 ,30.2 ,34.1 ,32.9 , 41.2 ,35.7]\n",
    "})\n",
    "\n",
    "print(comp.corr(method=\"pearson\"))"
   ]
  },
  {
   "cell_type": "code",
   "execution_count": 28,
   "metadata": {},
   "outputs": [
    {
     "name": "stdout",
     "output_type": "stream",
     "text": [
      "            age         fat\n",
      "age  174.732026  100.019608\n",
      "fat  100.019608   85.643824\n"
     ]
    }
   ],
   "source": [
    "print(comp.cov())"
   ]
  }
 ],
 "metadata": {
  "kernelspec": {
   "display_name": "Python 3",
   "language": "python",
   "name": "python3"
  },
  "language_info": {
   "codemirror_mode": {
    "name": "ipython",
    "version": 3
   },
   "file_extension": ".py",
   "mimetype": "text/x-python",
   "name": "python",
   "nbconvert_exporter": "python",
   "pygments_lexer": "ipython3",
   "version": "3.7.1"
  }
 },
 "nbformat": 4,
 "nbformat_minor": 2
}
