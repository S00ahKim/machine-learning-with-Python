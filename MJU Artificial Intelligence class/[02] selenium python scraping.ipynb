{
 "cells": [
  {
   "cell_type": "markdown",
   "metadata": {},
   "source": [
    "Selenium을 이용한 Web-Scraping\n",
    "\n",
    "환경 설정\n",
    "\n",
    "1. 파이썬과 필요한 라이브러리 requests beautifulsoup4 selenium\n",
    "2. 크롬 드라이버 73버전 (https://sites.google.com/a/chromium.org/chromedriver/downloads)\n",
    "\n",
    "목표\n",
    "- 아고다(www.agoda.com)에서 특정 날짜, 특정 지역 숙소를 저렴한 비용 순으로 스크래핑"
   ]
  },
  {
   "cell_type": "code",
   "execution_count": 1,
   "metadata": {},
   "outputs": [
    {
     "name": "stdout",
     "output_type": "stream",
     "text": [
      "[]\n"
     ]
    }
   ],
   "source": [
    "# 1.1\n",
    "import requests\n",
    "from bs4 import BeautifulSoup\n",
    "\n",
    "\n",
    "res = requests.get(\"https://www.agoda.com/\")\n",
    "content = BeautifulSoup(res.content, 'html.parser')\n",
    "\n",
    "inputs = content.findAll('input',{'class':\"SearchBoxTextEditor\"})\n",
    "\n",
    "print(inputs)"
   ]
  },
  {
   "cell_type": "code",
   "execution_count": 2,
   "metadata": {},
   "outputs": [
    {
     "name": "stdout",
     "output_type": "stream",
     "text": [
      "[<input aria-label=\"도시, 지역, 숙소명, 관광 명소 등으로 검색\" class=\"SearchBoxTextEditor SearchBoxTextEditor--autocomplete\" data-selenium=\"textInput\" placeholder=\"도시, 지역, 숙소명, 관광 명소 등으로 검색\" tabindex=\"-1\" type=\"text\" value=\"\"/>]\n"
     ]
    }
   ],
   "source": [
    "# 2.1\n",
    "from selenium import webdriver\n",
    "\n",
    "from time import sleep\n",
    "\n",
    "driver = webdriver.Chrome('./chromedriver/chromedriver.exe')\n",
    "\n",
    "driver.get('https://www.agoda.com/')\n",
    "sleep(10)\n",
    "\n",
    "content = BeautifulSoup(driver.page_source, 'html.parser')\n",
    "inputs = content.findAll('input',{'class':\"SearchBoxTextEditor\"})\n",
    "\n",
    "print(inputs)\n",
    "driver.quit()"
   ]
  },
  {
   "cell_type": "code",
   "execution_count": 3,
   "metadata": {},
   "outputs": [],
   "source": [
    "# 2.2\n",
    "driver = webdriver.Chrome('./chromedriver/chromedriver.exe')\n",
    "\n",
    "driver.get('https://www.agoda.com/ko-kr/pages/agoda/default/DestinationSearchResult.aspx?asq=rp7c5epycLthZ0hHoORGnpufa9Vwpz6XltTHq4n%2B9gN3dKLJ2CSXy2MFQ4mXIPMkG8mkPiCChFumqFZwERSiKVCFcPsjdKRWeTMp2t6jQpMNYJ%2FcCWv%2F24SObsMFxXBeq%2F%2BbkS51iQs%2FzvQsTUxKZQ%2Foa8qaSyQrg61mdIzB86KPzSkK9fKrnjwxW6q6lPcIzPx3p8UWZS2iN1I3SW%2BqojVI1hfLTktOcN3QfCrx%2FY0%3D&city=16901&cid=1732639&tag=a85f57f6-f4b0-5117-39ff-f69b8b36db1a&gclid=Cj0KCQjwkIzlBRDzARIsABgXqV9474e-pU1st8ZdlFWySlL168eYxXpRblOaoy9bxbsHGkWD5Xwh6eUaAtLFEALw_wcB&tick=636898847383&isdym=true&searchterm=%EC%A0%9C%EC%A3%BC%EB%8F%84%EB%8F%84&txtuuid=62401b76-c320-499e-81f9-ce04e8f77881&languageId=9&userId=d668e3a1-5c83-493c-9b69-118608c89cab&sessionId=4fjgaxujjqkkm4i0l24hq2g2&pageTypeId=1&origin=KR&locale=ko-KR&aid=81837&currencyCode=KRW&htmlLanguage=ko-kr&cultureInfoName=ko-KR&ckuid=d668e3a1-5c83-493c-9b69-118608c89cab&prid=0&checkIn=2019-04-12&checkOut=2019-04-13&rooms=1&adults=2&children=0&priceCur=KRW&los=1&textToSearch=%EC%A0%9C%EC%A3%BC%EB%8F%84%EB%8F%84&productType=-1&travellerType=1&familyMode=off')\n",
    "sleep(2)"
   ]
  },
  {
   "cell_type": "code",
   "execution_count": 4,
   "metadata": {},
   "outputs": [],
   "source": [
    "# 2.3\n",
    "driver.find_element_by_class_name('CalendarAlertMessage__close').click()\n",
    "sleep(3)\n",
    "\n",
    "driver.find_element_by_css_selector(\"a[data-element-name='search-sort-price']\").click()"
   ]
  },
  {
   "cell_type": "code",
   "execution_count": 5,
   "metadata": {},
   "outputs": [
    {
     "name": "stdout",
     "output_type": "stream",
     "text": [
      "loading complete\n"
     ]
    }
   ],
   "source": [
    "# 2.4\n",
    "from selenium.webdriver.common.action_chains import ActionChains\n",
    "from selenium.webdriver.common.keys import Keys\n",
    "\n",
    "actions = ActionChains(driver)\n",
    "last_height = driver.execute_script(\"return document.body.scrollHeight\")\n",
    "while(True):\n",
    "    for _ in range(15):\n",
    "        actions.send_keys(Keys.SPACE).perform()\n",
    "        sleep(1)\n",
    "    new_height = driver.execute_script(\"return document.body.scrollHeight\")\n",
    "    if new_height == last_height:\n",
    "        break\n",
    "    last_height = new_height\n",
    "    \n",
    "print(\"loading complete\")\n",
    "driver.execute_script(\"window.scrollTo(0, 0);\")\n",
    "sleep(3)"
   ]
  },
  {
   "cell_type": "code",
   "execution_count": 6,
   "metadata": {},
   "outputs": [
    {
     "name": "stdout",
     "output_type": "stream",
     "text": [
      "[애월의 프라이빗 하우스 (50m², 침실 2개, 프라이빗 욕실 1개) (Jeju  Island  Elvie  House l 2 Rooms l 3 Beds ) = 12,397, 씨엘 블루 호텔 (Hotel Ciel Blue) = 41,274, 바다와 자전거  (Sea and Bike) = 18,000, 오라성 모텔 (Orasung Motel) = 18,828, 민중각 게스트하우스 (Minjoonggak Guesthouse) = 20,284, 트윈스 호텔 (Twins Hotel Jeju) = 22,841, 호텔 올레세븐 (Hotel Olle Seven) = 23,513, 꼬닥꼬닥 게스트하우스  (Kodakkodak Guesthouse) = 23,517, 호텔 파인힐 (Hotel Pinehill) = 23,753, 호텔 가온 제이스테이 (Hotel Gaon J Stay) = 24,426, 플레이스 캠프 제주 (Playce Camp Jeju) = 24,570, 그라벨 호텔 (Grabel Hotel) = 40,991, 호텔 G (Hotel G) = 24,775, 성산의 프라이빗 하우스 (26m², 침실 1개, 프라이빗 욕실 1개) (brassica folwer pension) = 25,086, 제주 알프스호텔 (Jeju Alps Hotel) = 25,550, 제주 백록담 호텔 (jeju-brdhotel) = 25,865, 호텔 베스트원 (Hotel BestOne) = 26,102, 제주 마실 게스트하우스 (Masil Guesthouse Jeju) = 26,205, 참피온 호텔 (Champion Hotel) = 26,329, 뷰타워리조트 (View Tower Resort) = 26,417, 윈드힐 홀리데이 하우스 (Windhill Holiday House) = 26,532, 더 루케테 호텔 (The Lucete hotel) = 26,573, 힐링 팰리스 펜션 (Healing Palace Pension) = 26,735, Jeju Orastay Hotel = 27,156, 해바라기 게스트하우스 (Sun flower Guesthouse) = 27,273, 해너울 (Haeneoul) = 27,273, 제주 유스 호스텔 (Jeju Youth Hostel) = 27,273, 제주 스타 하우스 (Jeju Star House) = 27,283, 제주도유 펜션 (Jejudoyu Pension) = 27,560, 성산 해맞이 펜션 (Seongsan Sunrise Pension) = 27,875, 보물섬 펜션 (Bomulseom Pension) = 28,090, 체이슨 호텔 더 리드 (Chason Hotel The Read) = 28,145, 큐브 하우스 (Cube House) = 28,473, 물뜰에 쉼팡 리조트 (Water Garden Resort) = 28,638, 마로 호스텔 (Maro Hostel) = 28,700, Jeju Cordelia S Hotel = 28,718, 뉴월드 호텔 제주 (New World Hotel Jeju) = 28,858, 뉴맨하탄 관광호텔 (New Manhattan Tourist Hotel) = 28,921, 제주 항구 펜션 (Jeju Harbor Pension) = 28,924, 제주 아리아 펜션 (Jeju Aria Pension) = 29,040, 명송 리조트 (Myoungsong Resort) = 29,091, 레지나 펜션 (Rejina Pension) = 29,175, 그랑부르 - 49 (LeGrand Bleu - 49) = 29,254, 제주 시내의 아파트먼트 (78m², 침실 1개, 프라이빗 욕실 1개) (Airport 5min , two white cats, the best location) = 29,282, 호텔 굿인 (Hotel Good Inn) = 29,704, 제주 토비스 콘도 (신관) (Jeju Tovice Condo) = 29,748, 소리 게스트하우스 (Sori Guesthouse) = 29,749, 헤라 호텔 (Hera Hotel) = 29,789, 엘루이 호텔 제주 (Ellui Hotel Jeju) = 29,853, 우림 호텔 (Woorim Hotel) = 29,893, 제주 에바다 호스텔 (Ebada Hostel) = 29,932, 호텔 연 (Hotel Yeon) = 29,975, 빨간풍차펜션  (Red Windmill Pension) = 30,000, 제주골든파크호텔 (Golden Park Hotel) = 30,000, 중문 훼미리 리조트 (Jungmun Family Resort) = 30,000, 미소가 펜션 (Misoga Pension) = 30,324, Jeju Stay in Seongsan = 30,416, 할리데이 카라반 (Holiday Caravan) = 30,431, 제주인 호텔 (Jejuin Hotel) = 30,434, 로얄 호텔 제주 (Royal hotel jeju) = 30,464, 제주 아크로뷰 호텔 (Jeju Acroview Hotel) = 30,500, 호텔 이든 (Hotel Eden) = 30,516, 귤 하우스 (Gyul House) = 30,622, 옐로우 게스트하우스 (Yellow Guesthouse) = 30,672, 애플 호텔 (Apple Hotel) = 30,678, 마이 코리아 게스트하우스 (My Korea Guesthouse) = 30,696, 코델리아 리조트 (Cordelia Resort) = 30,818, 제주 발리 리조트 (Jeju Bali Resort) = 30,902, 구덕 게스트하우스  (Gudeok Guesthouse) = 30,909, 거북이 바다뜰 펜션 (Jeju Turtle Pension) = 30,991, 놀멍 쉬멍 고르멍 펜션 (Nolmeong Swimeong Goleumeong Pension) = 31,061, 초이 호스텔 제주 (Choi Hostel Jeju) = 31,067, 제주 하늬 바람 펜션 (Jeju Hani Baram Pension) = 31,116, 제주 칸델라 펜션 (Jeju Candella Pension) = 31,217, 두빛나래 리조트 (Twobitnalae Resort) = 31,296, 오션트리 하우스 (Oceantree House) = 26,754, 제주캐슬 (Jeju Castle Pension) = 31,522, 센트럴 호텔 (central hotel) = 31,559, 비스타케이 호텔 월드컵 (Vistacay Hotel World Cup) = 31,587, 수지 게스트하우스  (Suji Guesthouse) = 31,745, 기풍 호텔 (Gipung Hotel) = 31,810, 슬로우시티 호스텔 (Slow Citi Hostel) = 31,818, 성산 푸르미르 펜션 (Purmir Pension) = 31,818, 스타 하우스 (Star House) = 31,818, 밸리통나무 빌리지 (Valley Village) = 31,848, 그린데이 게스트하우스 (Greenday Guesthouse) = 31,909, 굿스테이 늘송 파크텔 (Goodstay Nulsong Parktel) = 31,959, 올레 관광 호텔 (Olle Tourist Hotel) = 32,064, 그린트리 인 서귀포호텔 (GreenTree Inn Jeju Seogwipo Express Hotel) = 32,292, 섬이야기 펜션 (Seom Story Pension) = 32,318, 중문 와우 펜션 (Jungmun WOW Pension) = 32,393, 제주 스테이 호텔 (Jeju stay hotel) = 32,432, 두빛나래 리조트  (Doobitnarae Resort) = 32,441, Jejuswiss village 216Dong 202Ho = 47,169, 제주 스위스 마을 (A lovely loving house) = 75,155, 성산의 프라이빗 하우스 (26m², 침실 1개, 프라이빗 욕실 1개) (brassica folwer pension) = 25,086]\n"
     ]
    }
   ],
   "source": [
    "# 2.5\n",
    "content = BeautifulSoup(driver.page_source, 'html.parser')\n",
    "list_items = content.findAll('li',{'class':[\"PropertyCardItem\",\"ssr-search-result\"]})\n",
    "\n",
    "class Hotel:\n",
    "    def __init__(self,name,price):\n",
    "        self.name = name\n",
    "        self.price = price\n",
    "        \n",
    "    def __str__(self):\n",
    "        return self.name + \" = \" + self.price\n",
    "\n",
    "    def __repr__(self):\n",
    "        return str(self)\n",
    "        \n",
    "hotels = []\n",
    "for item in list_items:\n",
    "    hotel_name = item.find('h3', class_=\"hotel-name\")\n",
    "    price = item.find('span', class_=\"price-box__price__amount\")\n",
    "    \n",
    "    if hotel_name is not None and price is not None:\n",
    "        new_hotel_data = Hotel(hotel_name.text, price.text)\n",
    "        hotels.append(new_hotel_data)\n",
    "\n",
    "print(hotels)\n",
    "sleep(5)\n",
    "driver.quit()"
   ]
  }
 ],
 "metadata": {
  "kernelspec": {
   "display_name": "Python 3",
   "language": "python",
   "name": "python3"
  },
  "language_info": {
   "codemirror_mode": {
    "name": "ipython",
    "version": 3
   },
   "file_extension": ".py",
   "mimetype": "text/x-python",
   "name": "python",
   "nbconvert_exporter": "python",
   "pygments_lexer": "ipython3",
   "version": "3.7.1"
  }
 },
 "nbformat": 4,
 "nbformat_minor": 2
}
