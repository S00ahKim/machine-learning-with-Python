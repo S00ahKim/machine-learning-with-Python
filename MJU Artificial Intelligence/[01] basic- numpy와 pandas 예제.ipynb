{
 "cells": [
  {
   "cell_type": "code",
   "execution_count": 2,
   "metadata": {},
   "outputs": [],
   "source": [
    "# 학번: 60171625\n",
    "# 이름: 김수아\n",
    "\n",
    "# Import required packages\n",
    "import numpy as np\n",
    "import pandas as pd"
   ]
  },
  {
   "cell_type": "code",
   "execution_count": 7,
   "metadata": {},
   "outputs": [],
   "source": [
    "# [1] Make 3 lists(dep, sno, gpa). \n",
    "#\ta)\tMake 3 lists with python internal libraries\n",
    "\n",
    "dep1 =['cs', 'cs', 'dt', 'dcd', 'dt', 'as', 'as', 'ice', 'ice', 'ice']\n",
    "sno1 =['0001', '0002', '0003', '0004', '0005', '0006', '0007', '0008', '0009', '0010']\n",
    "gpa1 =[2.10, 3.50, 4.50, 2.70, 3.00, 3.15, 4.00, 0.00, 3.25, 3.70]"
   ]
  },
  {
   "cell_type": "code",
   "execution_count": 3,
   "metadata": {},
   "outputs": [],
   "source": [
    "#\tb)\tMake 3 lists with numpy array\n",
    "\n",
    "dep2 = np.array(['cs', 'cs', 'dt', 'dcd', 'dt', 'as', 'as', 'ice', 'ice', 'ice'])\n",
    "sno2 = np.array(['0001', '0002', '0003', '0004', '0005', '0006', '0007', '0008', '0009', '0010'])\n",
    "gpa2 = np.array([2.10, 3.50, 4.50, 2.70, 3.00, 3.15, 4.00, 0.00, 3.25, 3.70])"
   ]
  },
  {
   "cell_type": "code",
   "execution_count": 4,
   "metadata": {},
   "outputs": [],
   "source": [
    "#\tc)\tMake 3 lists with pandas series\n",
    "\n",
    "dep3 = pd.Series(['cs', 'cs', 'dt', 'dcd', 'dt', 'as', 'as', 'ice', 'ice', 'ice'])\n",
    "sno3 = pd.Series(['0001', '0002', '0003', '0004', '0005', '0006', '0007', '0008', '0009', '0010'])\n",
    "gpa3 = pd.Series([2.10, 3.50, 4.50, 2.70, 3.00, 3.15, 4.00, 0.00, 3.25, 3.70])"
   ]
  },
  {
   "cell_type": "code",
   "execution_count": 5,
   "metadata": {},
   "outputs": [
    {
     "name": "stdout",
     "output_type": "stream",
     "text": [
      "2.99\n"
     ]
    }
   ],
   "source": [
    "# [2] Consider the table shown in Q1.                                                    \n",
    "#\ta)\tprint mean of gpa with python internal libraries upto second decimal point.\n",
    "\n",
    "def mean_function(list):\n",
    "    if len(list)==0:\n",
    "        return none\n",
    "    return sum(list, 0.0)/len(list)\n",
    "\n",
    "print(\"%0.2f\" % mean_function(gpa1))"
   ]
  },
  {
   "cell_type": "code",
   "execution_count": 6,
   "metadata": {},
   "outputs": [
    {
     "name": "stdout",
     "output_type": "stream",
     "text": [
      "2.99\n",
      "3.20\n"
     ]
    }
   ],
   "source": [
    "#\tb)\tprint mean and median of gpa with numpy upto second decimal point.\n",
    "\n",
    "print(\"%0.2f\" % np.mean(gpa2))\n",
    "print(\"%0.2f\" % np.median(gpa2))"
   ]
  },
  {
   "cell_type": "code",
   "execution_count": 7,
   "metadata": {},
   "outputs": [
    {
     "name": "stdout",
     "output_type": "stream",
     "text": [
      "2.99\n",
      "3.20\n"
     ]
    }
   ],
   "source": [
    "#\tc)\tprint mean and median of gpa with pandas upto second decimal point.\n",
    "\n",
    "print(\"%0.2f\" % gpa3.mean())\n",
    "print(\"%0.2f\" % gpa3.median())"
   ]
  },
  {
   "cell_type": "code",
   "execution_count": 16,
   "metadata": {},
   "outputs": [
    {
     "name": "stdout",
     "output_type": "stream",
     "text": [
      "3.2\n"
     ]
    }
   ],
   "source": [
    "# [3] Define the function for calculating the median value of python list with python internal libraries \n",
    "#    and print median value of gpa. (Only with built-in fuction.)   \n",
    "# <주의> 0부터 시작하기 때문에 1부터 시작하는 방식과 중앙값 구하는 방법이 다르다.\n",
    "\n",
    "def median(lst):\n",
    "    lst_len = len(lst)\n",
    "    lst = sorted(lst)\n",
    "    if lst_len % 2 == 0:\n",
    "        return (lst[int(lst_len/2)-1]+lst[int(lst_len/2)])/2.0\n",
    "    return lst[lst_len/2]\n",
    "\n",
    "print(median(gpa1))"
   ]
  },
  {
   "cell_type": "code",
   "execution_count": 4,
   "metadata": {},
   "outputs": [
    {
     "name": "stdout",
     "output_type": "stream",
     "text": [
      "  dep   sno  gpa\n",
      "2  dt  0003  4.5\n"
     ]
    }
   ],
   "source": [
    "# [4] Using pandas.DataFrame, sort all data by gpa and print row with the 3rd highest gpa.\n",
    "# <주의> 0부터 시작하기 때문에 3번째 것을 뽑으려면 인덱스는 2에 해당한다.\n",
    "\n",
    "tab = pd.DataFrame({\n",
    "    \"dep\" : ['cs', 'cs', 'dt', 'dcd', 'dt', 'as', 'as', 'ice', 'ice', 'ice'],\n",
    "    \"sno\" : ['0001', '0002', '0003', '0004', '0005', '0006', '0007', '0008', '0009', '0010'],\n",
    "    \"gpa\" : [2.10, 3.50, 4.50, 2.70, 3.00, 3.15, 4.00, 0.00, 3.25, 3.70]\n",
    "})\n",
    "\n",
    "tab.sort_values(by=\"gpa\")\n",
    "print(tab[2:3])"
   ]
  },
  {
   "cell_type": "code",
   "execution_count": 10,
   "metadata": {},
   "outputs": [
    {
     "name": "stdout",
     "output_type": "stream",
     "text": [
      "dep\n",
      "as     3.575000\n",
      "cs     2.800000\n",
      "dcd    2.700000\n",
      "dt     3.750000\n",
      "ice    2.316667\n",
      "Name: gpa, dtype: float64\n",
      "dep\n",
      "as     4.0\n",
      "cs     3.5\n",
      "dcd    2.7\n",
      "dt     4.5\n",
      "ice    3.7\n",
      "Name: gpa, dtype: float64\n",
      "dep\n",
      "as     3.15\n",
      "cs     2.10\n",
      "dcd    2.70\n",
      "dt     3.00\n",
      "ice    0.00\n",
      "Name: gpa, dtype: float64\n"
     ]
    }
   ],
   "source": [
    "# [5] Print mean, max, min of gpa by group of dep. (used: pandas)\n",
    "\n",
    "grouped_by_dep = tab[\"gpa\"].groupby(tab[\"dep\"])\n",
    "print(grouped_by_dep.mean())\n",
    "print(grouped_by_dep.max())\n",
    "print(grouped_by_dep.min())"
   ]
  },
  {
   "cell_type": "code",
   "execution_count": 11,
   "metadata": {},
   "outputs": [
    {
     "data": {
      "text/html": [
       "<div>\n",
       "<style scoped>\n",
       "    .dataframe tbody tr th:only-of-type {\n",
       "        vertical-align: middle;\n",
       "    }\n",
       "\n",
       "    .dataframe tbody tr th {\n",
       "        vertical-align: top;\n",
       "    }\n",
       "\n",
       "    .dataframe thead tr th {\n",
       "        text-align: left;\n",
       "    }\n",
       "\n",
       "    .dataframe thead tr:last-of-type th {\n",
       "        text-align: right;\n",
       "    }\n",
       "</style>\n",
       "<table border=\"1\" class=\"dataframe\">\n",
       "  <thead>\n",
       "    <tr>\n",
       "      <th></th>\n",
       "      <th colspan=\"4\" halign=\"left\">gpa</th>\n",
       "    </tr>\n",
       "    <tr>\n",
       "      <th>year</th>\n",
       "      <th>2010</th>\n",
       "      <th>2011</th>\n",
       "      <th>2012</th>\n",
       "      <th>2013</th>\n",
       "    </tr>\n",
       "    <tr>\n",
       "      <th>dep</th>\n",
       "      <th></th>\n",
       "      <th></th>\n",
       "      <th></th>\n",
       "      <th></th>\n",
       "    </tr>\n",
       "  </thead>\n",
       "  <tbody>\n",
       "    <tr>\n",
       "      <th>as</th>\n",
       "      <td>NaN</td>\n",
       "      <td>NaN</td>\n",
       "      <td>3.6</td>\n",
       "      <td>3.7</td>\n",
       "    </tr>\n",
       "    <tr>\n",
       "      <th>cs</th>\n",
       "      <td>2.8</td>\n",
       "      <td>NaN</td>\n",
       "      <td>0.0</td>\n",
       "      <td>NaN</td>\n",
       "    </tr>\n",
       "    <tr>\n",
       "      <th>dt</th>\n",
       "      <td>NaN</td>\n",
       "      <td>3.6</td>\n",
       "      <td>3.0</td>\n",
       "      <td>3.2</td>\n",
       "    </tr>\n",
       "  </tbody>\n",
       "</table>\n",
       "</div>"
      ],
      "text/plain": [
       "      gpa               \n",
       "year 2010 2011 2012 2013\n",
       "dep                     \n",
       "as    NaN  NaN  3.6  3.7\n",
       "cs    2.8  NaN  0.0  NaN\n",
       "dt    NaN  3.6  3.0  3.2"
      ]
     },
     "execution_count": 11,
     "metadata": {},
     "output_type": "execute_result"
    }
   ],
   "source": [
    "# [6] Print mean of gpa of each dep by year. (used: pandas)\n",
    "tab2 = pd.DataFrame({\n",
    "    'dep' : [\"cs\", \"cs\", \"dt\", \"dt\", \"dt\", \"as\", \"as\", \"cs\", \"dt\", \"as\"],\n",
    "    'sno' : [\"0001\", \"0002\", \"0003\", \"0004\", \"0005\", \"0006\", \"0007\", \"0008\", \"0009\", \"0010\"],\n",
    "    'gpa' : [2.10, 3.50, 4.50, 2.70, 3.00, 3.20, 4.00, 0.00, 3.20, 3.70],\n",
    "    'year' : [2010, 2010, 2011, 2011, 2012, 2012, 2012, 2012, 2013, 2013]})\n",
    "\n",
    "tab2.pivot_table([\"gpa\"], [\"dep\"],[\"year\"],\"mean\")"
   ]
  }
 ],
 "metadata": {
  "kernelspec": {
   "display_name": "Python 3",
   "language": "python",
   "name": "python3"
  },
  "language_info": {
   "codemirror_mode": {
    "name": "ipython",
    "version": 3
   },
   "file_extension": ".py",
   "mimetype": "text/x-python",
   "name": "python",
   "nbconvert_exporter": "python",
   "pygments_lexer": "ipython3",
   "version": "3.7.1"
  }
 },
 "nbformat": 4,
 "nbformat_minor": 2
}
