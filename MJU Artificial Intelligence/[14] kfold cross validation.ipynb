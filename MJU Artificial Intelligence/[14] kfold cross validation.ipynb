{
 "cells": [
  {
   "cell_type": "code",
   "execution_count": 2,
   "metadata": {},
   "outputs": [
    {
     "name": "stdout",
     "output_type": "stream",
     "text": [
      "시간:  0.25\n",
      "각 validation정답률:  [0.84255843 1.         0.99876923 1.         0.68534483]\n",
      "평균 정답률:  0.91\n"
     ]
    }
   ],
   "source": [
    "import pandas as pd\n",
    "from sklearn.ensemble import RandomForestClassifier\n",
    "from sklearn import metrics, model_selection\n",
    "from sklearn.model_selection import train_test_split\n",
    "from time import time\n",
    "\n",
    "mr = pd.read_csv('mushroom.csv', header=None)\n",
    "df = pd.DataFrame(mr.iloc[:, 0])\n",
    "df= df.join(pd.get_dummies(mr.iloc[:,1:]))\n",
    "\n",
    "data=df.iloc[:,1:]\n",
    "label=df.loc[:,0]\n",
    "\n",
    "data_train, data_test, label_train, label_test=train_test_split(data, label)\n",
    "\n",
    "start = time()\n",
    "\n",
    "clf = RandomForestClassifier(n_estimators=5)\n",
    "clf.fit(data_train, label_train)\n",
    "predict=clf.predict(data_test)\n",
    "\n",
    "scores=model_selection.cross_val_score(clf, data, label, cv=5)\n",
    "\n",
    "end=time()\n",
    "\n",
    "print(\"시간: \", str(round((end-start),2)))\n",
    "print(\"각 validation정답률: \", scores)\n",
    "print(\"평균 정답률: \", \"%.2f\"%scores.mean())"
   ]
  },
  {
   "cell_type": "code",
   "execution_count": 4,
   "metadata": {},
   "outputs": [
    {
     "name": "stdout",
     "output_type": "stream",
     "text": [
      "시간:  2.46\n",
      "각 validation정답률:  [0.84255843 1.         1.         1.         0.76046798]\n",
      "평균 정답률:  0.92\n"
     ]
    }
   ],
   "source": [
    "#100으로\n",
    "\n",
    "start = time()\n",
    "\n",
    "clf = RandomForestClassifier(n_estimators=100)\n",
    "clf.fit(data_train, label_train)\n",
    "predict=clf.predict(data_test)\n",
    "\n",
    "scores=model_selection.cross_val_score(clf, data, label, cv=5)\n",
    "\n",
    "end=time()\n",
    "\n",
    "print(\"시간: \", str(round((end-start),2)))\n",
    "print(\"각 validation정답률: \", scores)\n",
    "print(\"평균 정답률: \", \"%.2f\"%scores.mean())"
   ]
  }
 ],
 "metadata": {
  "kernelspec": {
   "display_name": "Python 3",
   "language": "python",
   "name": "python3"
  },
  "language_info": {
   "codemirror_mode": {
    "name": "ipython",
    "version": 3
   },
   "file_extension": ".py",
   "mimetype": "text/x-python",
   "name": "python",
   "nbconvert_exporter": "python",
   "pygments_lexer": "ipython3",
   "version": "3.7.1"
  }
 },
 "nbformat": 4,
 "nbformat_minor": 2
}
